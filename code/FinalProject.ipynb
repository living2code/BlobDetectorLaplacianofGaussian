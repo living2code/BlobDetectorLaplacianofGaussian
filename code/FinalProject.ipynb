{
 "cells": [
  {
   "cell_type": "markdown",
   "metadata": {},
   "source": [
    "**Objective -> To construct a program that:**\n",
    "1. Take the input image from the user\n",
    "2. Do operations to detect the Blobs in the given image\n",
    "3. Show the Blobs as circles highlighted on the given image. \n"
   ]
  },
  {
   "cell_type": "markdown",
   "metadata": {},
   "source": [
    "**Operations to be implemented from scratch are:**\n",
    "1. Build a Laplacian scale space (core function to be implemented on your own)\n",
    "2. Filter image (core function to be implemented on your own, e.g, reuse the conv. in your hws)\n",
    "3. Perform non-maximum suppression (core function to be implemented on your own)"
   ]
  },
  {
   "cell_type": "code",
   "execution_count": 23,
   "metadata": {},
   "outputs": [],
   "source": [
    "import numpy as np\n",
    "import cv2 \n",
    "import matplotlib.pyplot as plt\n",
    "import time\n",
    "import math\n",
    "sigma_value=2\n",
    "k_value=1.24"
   ]
  },
  {
   "cell_type": "code",
   "execution_count": 24,
   "metadata": {},
   "outputs": [],
   "source": [
    "def hyperParameters():\n",
    "    sigma=2\n",
    "    k=1.24\n",
    "    return sigma,k"
   ]
  },
  {
   "cell_type": "code",
   "execution_count": 33,
   "metadata": {},
   "outputs": [],
   "source": [
    "def main():\n",
    "    \n",
    "    final_image,InputImage=getuserInput()\n",
    "    print(final_image.shape)\n",
    "    #save_blob=draw_circles(final_image,InputImage)\n",
    "    #cv2.imwrite('NMSBlobsDected_sunflower.jpg',save_blob)\n",
    "    cv2.imshow('FinalImage with Blobs',final_image)\n",
    "    cv2.waitKey(0)\n",
    "    cv2.destroyAllWindows()\n",
    "    #plt.imshow(final_image)\n",
    "    #plt.imsave(\"BlobImage1.png\",arr=final_image)    "
   ]
  },
  {
   "cell_type": "code",
   "execution_count": 26,
   "metadata": {},
   "outputs": [],
   "source": [
    "def draw_circles(output_img,InputImage):\n",
    "    rad = math.ceil(sigma_value*math.sqrt(2))\n",
    "    data = 0\n",
    "    for count in range(output_img.shape[2]):\n",
    "        for i in range(InputImage.shape[0]):\n",
    "            for j in range(InputImage.shape[1]):\n",
    "                radius = rad*(k_value**(count+1))\n",
    "                if(output_img[i][j][count]==1):\n",
    "                    data = data+1\n",
    "                    InputImage = cv2.circle(InputImage,(j,i),int(radius),(0,0,255))\n",
    "    \n",
    "    plt.imshow(InputImage)\n",
    "    plt.imsave(\"BlobImage2.png\",arr=InputImage)\n",
    "    return InputImage"
   ]
  },
  {
   "cell_type": "code",
   "execution_count": 34,
   "metadata": {},
   "outputs": [],
   "source": [
    "def getuserInput():\n",
    "    location_of_img=input('Enter the filepath of the image (use forward slash only \\\"/\"):')\n",
    "    print()\n",
    "    print(\"you've entered=\",location_of_img)\n",
    "    isLocCorrect=input(\"confirm with yes(y) or no(n) :\")    \n",
    "    print()\n",
    "    InputImage=0\n",
    "    #outputImg=0\n",
    "    choose_method=\" \"\n",
    "    if(isLocCorrect=='y'):\n",
    "        proceed_flag=True\n",
    "        choose_method=input(\"enter 1 for using increasing kernel size or enter 2 to use downsampling method:\")\n",
    "        print(type(choose_method))\n",
    "    else:\n",
    "        proceed_flag=False\n",
    "        getuserInput()\n",
    "    \n",
    "    \n",
    "    sigma,k = hyperParameters()   \n",
    "    print(sigma,k)\n",
    "    if(proceed_flag):\n",
    "        InputImage=cv2.imread(location_of_img,0)\n",
    "        InputImage_norm = np.array(InputImage,dtype=int)/255\n",
    "        #plt.figure(1)\n",
    "        #plt.imshow(InputImage)\n",
    "        coloredImage= cv2.imread(location_of_img)\n",
    "        #plt.figure(2)\n",
    "        #plt.imshow(coloredImage)\n",
    "        #cv2.imshow(\"inp\",InputImage)\n",
    "        #cv2.waitKey(5000)\n",
    "        #cv2.destroyAllWindows()\n",
    "        if(choose_method=='1'):\n",
    "            print(\"reached if condt.\")\n",
    "            list_convolved = newScaleSpace(InputImage_norm,sigma,k)\n",
    "            outputImg=nonMaxSup(list_convolved,sigma,k,InputImage_norm,coloredImage)\n",
    "            ###outputImg=newScaleSpace(InputImage_norm,sigma,k)\n",
    "        return outputImg,coloredImage\n",
    "        \n",
    "        \n",
    "\n",
    "    "
   ]
  },
  {
   "cell_type": "code",
   "execution_count": 42,
   "metadata": {
    "scrolled": false
   },
   "outputs": [
    {
     "name": "stdout",
     "output_type": "stream",
     "text": [
      "Enter the filepath of the image (use forward slash only \"/\"):D:/NCSU_PROJECTS/ECE558/TestImages4Project/fishes.jpg\n",
      "\n",
      "you've entered= D:/NCSU_PROJECTS/ECE558/TestImages4Project/fishes.jpg\n",
      "confirm with yes(y) or no(n) :n\n",
      "\n",
      "Enter the filepath of the image (use forward slash only \"/\"):D:/NCSU_PROJECTS/ECE558/TestImages4Project/butterfly.jpg\n",
      "\n",
      "you've entered= D:/NCSU_PROJECTS/ECE558/TestImages4Project/butterfly.jpg\n",
      "confirm with yes(y) or no(n) :y\n",
      "\n",
      "enter 1 for using increasing kernel size or enter 2 to use downsampling method:1\n",
      "<class 'str'>\n",
      "2 1.24\n",
      "reached if condt.\n",
      "creating a scale space\n",
      "doing nonMax\n",
      "575\n",
      "2 1.24\n"
     ]
    },
    {
     "ename": "TypeError",
     "evalue": "'NoneType' object is not iterable",
     "output_type": "error",
     "traceback": [
      "\u001b[1;31m---------------------------------------------------------------------------\u001b[0m",
      "\u001b[1;31mTypeError\u001b[0m                                 Traceback (most recent call last)",
      "\u001b[1;32m<ipython-input-42-95a70c787660>\u001b[0m in \u001b[0;36m<module>\u001b[1;34m()\u001b[0m\n\u001b[0;32m      1\u001b[0m \u001b[1;32mif\u001b[0m \u001b[0m__name__\u001b[0m\u001b[1;33m==\u001b[0m\u001b[1;34m'__main__'\u001b[0m\u001b[1;33m:\u001b[0m\u001b[1;33m\u001b[0m\u001b[0m\n\u001b[0;32m      2\u001b[0m     \u001b[0mstart_time\u001b[0m \u001b[1;33m=\u001b[0m \u001b[0mtime\u001b[0m\u001b[1;33m.\u001b[0m\u001b[0mtime\u001b[0m\u001b[1;33m(\u001b[0m\u001b[1;33m)\u001b[0m\u001b[1;33m\u001b[0m\u001b[0m\n\u001b[1;32m----> 3\u001b[1;33m     \u001b[0mmain\u001b[0m\u001b[1;33m(\u001b[0m\u001b[1;33m)\u001b[0m\u001b[1;33m\u001b[0m\u001b[0m\n\u001b[0m\u001b[0;32m      4\u001b[0m     \u001b[0mprint\u001b[0m\u001b[1;33m(\u001b[0m\u001b[1;34m\"--- %s seconds ---\"\u001b[0m \u001b[1;33m%\u001b[0m \u001b[1;33m(\u001b[0m\u001b[0mtime\u001b[0m\u001b[1;33m.\u001b[0m\u001b[0mtime\u001b[0m\u001b[1;33m(\u001b[0m\u001b[1;33m)\u001b[0m \u001b[1;33m-\u001b[0m \u001b[0mstart_time\u001b[0m\u001b[1;33m)\u001b[0m\u001b[1;33m)\u001b[0m\u001b[1;33m\u001b[0m\u001b[0m\n\u001b[0;32m      5\u001b[0m \u001b[1;33m\u001b[0m\u001b[0m\n",
      "\u001b[1;32m<ipython-input-33-e80aca07eede>\u001b[0m in \u001b[0;36mmain\u001b[1;34m()\u001b[0m\n\u001b[0;32m      1\u001b[0m \u001b[1;32mdef\u001b[0m \u001b[0mmain\u001b[0m\u001b[1;33m(\u001b[0m\u001b[1;33m)\u001b[0m\u001b[1;33m:\u001b[0m\u001b[1;33m\u001b[0m\u001b[0m\n\u001b[0;32m      2\u001b[0m \u001b[1;33m\u001b[0m\u001b[0m\n\u001b[1;32m----> 3\u001b[1;33m     \u001b[0mfinal_image\u001b[0m\u001b[1;33m,\u001b[0m\u001b[0mInputImage\u001b[0m\u001b[1;33m=\u001b[0m\u001b[0mgetuserInput\u001b[0m\u001b[1;33m(\u001b[0m\u001b[1;33m)\u001b[0m\u001b[1;33m\u001b[0m\u001b[0m\n\u001b[0m\u001b[0;32m      4\u001b[0m     \u001b[0mprint\u001b[0m\u001b[1;33m(\u001b[0m\u001b[0mfinal_image\u001b[0m\u001b[1;33m.\u001b[0m\u001b[0mshape\u001b[0m\u001b[1;33m)\u001b[0m\u001b[1;33m\u001b[0m\u001b[0m\n\u001b[0;32m      5\u001b[0m     \u001b[1;31m#save_blob=draw_circles(final_image,InputImage)\u001b[0m\u001b[1;33m\u001b[0m\u001b[1;33m\u001b[0m\u001b[0m\n",
      "\u001b[1;31mTypeError\u001b[0m: 'NoneType' object is not iterable"
     ]
    }
   ],
   "source": [
    "if __name__=='__main__':\n",
    "    start_time = time.time()\n",
    "    main()\n",
    "    print(\"--- %s seconds ---\" % (time.time() - start_time))\n",
    "    "
   ]
  },
  {
   "cell_type": "code",
   "execution_count": 8,
   "metadata": {},
   "outputs": [],
   "source": [
    "def logkernel(sigma,kernel_size):\n",
    "    #kernel size =5x5 or 9x9 or X x X kernelSize = max(1,fix(6*sigma)+1)\n",
    "    #use Vectorize to speed up\n",
    "    #e=2.718\n",
    "    #9=-4 to 4\n",
    "    print(\"creating LoG kernel\")\n",
    "    #x=kernel_size\n",
    "    #y=kernel_size\n",
    "    center_px=int(((kernel_size-1)/2))\n",
    "    #print(\"center\",center_px)\n",
    "    log_kernel=np.empty([kernel_size,kernel_size])\n",
    "    #sum=0\n",
    "    for i in range(kernel_size):\n",
    "        for j in range(kernel_size):\n",
    "            x=i-center_px\n",
    "            y=j-center_px\n",
    "            #log_kernel[i][j]=((-1.0)/(3.14*(sigma**4)))*(1-(((p)**2+(q)**2)/2*(sigma**2)))*(2.718** (-1*(p**2+q**2)/(2*(sigma**2))))\n",
    "            ##log_kernel[i][j]=((x**2)+(y**2)-(2*(sigma**2))) * 2.718**(-1*(x**2+y**2)/(2*(sigma**2)))\n",
    "            log_kernel[i][j] = ((-1.0)/(math.pi*(sigma**4)))*(1-((x**2+y**2)/(2*sigma**2)))*math.exp(-1*((x**2+y**2)/(2*sigma**2)))\n",
    "            #sum=sum+log_kernel[i][j]\n",
    "    #print(sum)\n",
    "    return log_kernel\n"
   ]
  },
  {
   "cell_type": "code",
   "execution_count": 35,
   "metadata": {},
   "outputs": [],
   "source": [
    "kernel_list=[]\n",
    "\n",
    "def newScaleSpace(image,sigma,k):\n",
    "    print(\"creating a scale space\")\n",
    "    scale_space=10\n",
    "    list_images=[]\n",
    "    output = np.zeros((image.shape[0],image.shape[1],scale_space))\n",
    "    sigma_init=sigma\n",
    "    \n",
    "    #my_scale_space=()\n",
    "    for i in range(scale_space):\n",
    "        sigma_new=sigma_init*(k**i)\n",
    "        #print(sigma_new)\n",
    "        filter_size=(round(6*sigma_new))\n",
    "        if(filter_size%2==0):\n",
    "            filter_size=filter_size+1\n",
    "        #print(filter_size)\n",
    "        if(len(kernel_list)==scale_space):\n",
    "            kernel=kernel_list[i]\n",
    "        else:\n",
    "            kernel=logkernel(sigma_new,filter_size)\n",
    "            kernel_list.append(kernel) #method\n",
    "        #print(kernel)\n",
    "        kernel_normalized=np.array(kernel,dtype=float)*(sigma_new**2)\n",
    "        img_im=convOp(image,kernel_normalized) #kernel\n",
    "        #cv2.imshow(str(i),img_im)\n",
    "        output[:,:,i]=img_im ###\n",
    "   ###  outputImg=nonMaxSuppression(output,0.01) ###\n",
    "        #print(\"iteration\",i)\n",
    "        list_images.append(img_im)\n",
    "        \n",
    "    #cv2.waitKey(0)\n",
    "    \n",
    "    \n",
    "    #for i in range(2):\n",
    "        #cv2.imshow(str(i),list_images[i])\n",
    "    return  list_images #outputImg"
   ]
  },
  {
   "cell_type": "code",
   "execution_count": 41,
   "metadata": {},
   "outputs": [],
   "source": [
    "def nonMaxSup(list_convoluted,sigma_value,k,InputImage,coloredImage):\n",
    "    print(\"doing nonMax\")\n",
    "    sigma_init=sigma_value\n",
    "    counter=0\n",
    "    img=InputImage\n",
    "    blobs_detected=coloredImage\n",
    "    rad=sigma_init*np.sqrt(2)\n",
    "    for layer in range(1,9):  #ignore first n last: if ScaleSpace=15 -> range(1,14)\n",
    "        r=rad*k**(layer) #2,3,4 radius\n",
    "        #sigma=sigma*k**(layer)\n",
    "        for i in range(1,img.shape[0]-1):\n",
    "            for j in range(1,img.shape[1]-1):\n",
    "                px_value=list_convoluted[layer][i][j]\n",
    "                #if px_value==0:\n",
    "                #    continue\n",
    "                flag=1\n",
    "                for xx in range(-1,2):\n",
    "                    for yy in range(-1,2):\n",
    "                        for zz in range(-1,2):\n",
    "                            if((xx!=0 or yy!=0 or zz!=0) and px_value<list_convoluted[layer+xx][i+yy][j+zz]):\n",
    "                                flag=0\n",
    "                                break\n",
    "                if flag==1 and px_value>0.02:\n",
    "                    cv2.circle(blobs_detected,(j,i),int(r),(0,0,255),1)\n",
    "                    counter=counter+1\n",
    "    print(counter)\n",
    "    #cv2.imshow('nms_out',copy)\n",
    "    #cv2.waitKey(10000)\n",
    "    return blobs_detected"
   ]
  },
  {
   "cell_type": "code",
   "execution_count": 11,
   "metadata": {},
   "outputs": [],
   "source": [
    "def isMax(arr,i,j,count,threshold):\n",
    "    if(count<1):\n",
    "        maxValue = np.amax(np.array(arr[i-1:i+2,j-1:j+2,count:count+2]))\n",
    "    elif(count>noOfSamples-1):\n",
    "        maxValue = np.amax(np.array(arr[i-1:i+2,j-1:j+2,count-1:count+1]))\n",
    "    else:\n",
    "        maxValue = np.amax(np.array(arr[i-1:i+2,j-1:j+2,count-1:count+2]))\n",
    "    if(maxValue==0):\n",
    "        return 0\n",
    "    else:\n",
    "        if((maxValue == arr[i][j][count]) & (maxValue>threshold)):\n",
    "            return 1\n",
    "        else:\n",
    "            return 0"
   ]
  },
  {
   "cell_type": "code",
   "execution_count": 12,
   "metadata": {},
   "outputs": [],
   "source": [
    "noOfSamples=10\n",
    "def nonMaxSuppression(output,threshold):\n",
    "    detector = np.zeros((output.shape[0],output.shape[1],output.shape[2]-2))\n",
    "    maxPresent = 0\n",
    "    for count in range(detector.shape[2]):\n",
    "        for i in range(1,detector.shape[0]):\n",
    "            for j in range(1,detector.shape[1]):\n",
    "                detector[i][j][count] = isMax(output,i,j,count+1,threshold)\n",
    "                if(detector[i][j][count]==1):\n",
    "                    maxPresent = maxPresent+1\n",
    "    print(maxPresent)\n",
    "    return detector"
   ]
  },
  {
   "cell_type": "code",
   "execution_count": null,
   "metadata": {},
   "outputs": [],
   "source": []
  },
  {
   "cell_type": "code",
   "execution_count": null,
   "metadata": {},
   "outputs": [],
   "source": []
  },
  {
   "cell_type": "code",
   "execution_count": 127,
   "metadata": {},
   "outputs": [
    {
     "name": "stdout",
     "output_type": "stream",
     "text": [
      "creating LoG kernel\n",
      "-8.0\n"
     ]
    }
   ],
   "source": [
    "abc=cv2.imread('D:/NCSU_PROJECTS/ECE558/TestImages4Project/butterfly.jpg',0)\n",
    "abc_arr = np.array(abc,dtype=int)/255 #abc/np.max(abc)\n",
    "ker=logkernel(2,13)\n",
    "kernel_normalized=np.array(ker,dtype=float)*(2**2)\n",
    "print(ker[6][6])\n",
    "out_put=convOp(abc_arr,kernel_normalized)"
   ]
  },
  {
   "cell_type": "code",
   "execution_count": null,
   "metadata": {},
   "outputs": [],
   "source": []
  },
  {
   "cell_type": "code",
   "execution_count": 14,
   "metadata": {},
   "outputs": [],
   "source": [
    "def convOp(image, kernel):\n",
    "    #print(\"doing convolution\")\n",
    "    ker_x=int(kernel.shape[0]/2) \n",
    "    ker_y=int(kernel.shape[1]/2)\n",
    "    h,w=image.shape\n",
    "    s=ker_x\n",
    "    kernelSize=kernel.shape[0]\n",
    "    #print(image.shape[0],image.shape[1])\n",
    "    #create padding for obtaining same size Image\n",
    "    paddedImage = (np.zeros((h+2*ker_x,w+2*ker_y)))\n",
    "    paddedImage[ker_x:-ker_x,ker_y:-ker_y]=image\n",
    "    conv2DImage=np.array(image)\n",
    "    matrix=np.zeros(image.shape)\n",
    "    #print(conv2DImage.shape)\n",
    "    #print(paddedImage.shape)\n",
    "    newImage_same = np.zeros(paddedImage.shape)\n",
    "    for r in range(ker_x,paddedImage.shape[0]-ker_x):\n",
    "        for c in range(ker_y,paddedImage.shape[1]-ker_x):\n",
    "            matrix[r-ker_x,c-ker_y]=(np.sum(paddedImage[r-s:r+s+1,c-s:c+s+1]*kernel))**2\n",
    "            \n",
    "            #i=r-ker_x\n",
    "            #j=c-ker_x\n",
    "            #newImage_same[r][c]=(kernel*paddedImage[i:i+kernelSize,j:j+kernelSize]).sum()\n",
    "            #output_image_same = newImage_same[ker_x:paddedImage.shape[0]-ker_x,ker_x:paddedImage.shape[1]-ker_x]\n",
    "            #print(r,c)#conv2DImage\n",
    "            #patch=image[r-:r+konstant_r,c:c+konstant_c]            \n",
    "            #patch_product_pixels=np.multiply(patch,kernel)\n",
    "            #patch_sum[r][c]=int(np.sum(patch_product_pixels))\n",
    "    #maximum_px=np.max(matrix)\n",
    "    #minimum_px=np.min(matrix)\n",
    "    #for i in range(int(matrix.shape[0])):\n",
    "    #    for j in range(int(matrix.shape[1])):\n",
    "    #        conv2DImage[i][j]=(matrix[i][j]-minimum_px)*255.0/(maximum_px-minimum_px)\n",
    "    #print(output_image_same.shape)\n",
    "    #output = np.array(matrix,dtype=float)**2\n",
    "    #matrix *= (255.0/matrix.max())\n",
    "    #matrix=np.clip(matrix,0,255)\n",
    "    return   matrix#conv2DImage # output  "
   ]
  },
  {
   "cell_type": "code",
   "execution_count": null,
   "metadata": {},
   "outputs": [],
   "source": []
  },
  {
   "cell_type": "code",
   "execution_count": 128,
   "metadata": {},
   "outputs": [],
   "source": [
    "cv2.imshow(\"aaa\",out_put)\n",
    "cv2.waitKey(0)\n",
    "cv2.destroyAllWindows()"
   ]
  },
  {
   "cell_type": "code",
   "execution_count": 123,
   "metadata": {},
   "outputs": [],
   "source": [
    "from scipy.ndimage.filters import gaussian_laplace\n",
    "g_l=gaussian_laplace(abc, sigma=3.9)**2 "
   ]
  },
  {
   "cell_type": "code",
   "execution_count": 124,
   "metadata": {},
   "outputs": [],
   "source": [
    "cv2.imshow(\"aaa\",g_l)\n",
    "cv2.waitKey(0)\n",
    "cv2.destroyAllWindows()"
   ]
  },
  {
   "cell_type": "code",
   "execution_count": 131,
   "metadata": {},
   "outputs": [
    {
     "name": "stdout",
     "output_type": "stream",
     "text": [
      "creating LoG kernel\n",
      "[[ 0.         -1.60588835 -2.42624842 -1.60588835  0.        ]\n",
      " [-1.60588835 -4.67292582 -6.17755838 -4.67292582 -1.60588835]\n",
      " [-2.42624842 -6.17755838 -8.         -6.17755838 -2.42624842]\n",
      " [-1.60588835 -4.67292582 -6.17755838 -4.67292582 -1.60588835]\n",
      " [ 0.         -1.60588835 -2.42624842 -1.60588835  0.        ]]\n"
     ]
    }
   ],
   "source": [
    "print(logkernel(2,5))"
   ]
  },
  {
   "cell_type": "code",
   "execution_count": 145,
   "metadata": {},
   "outputs": [
    {
     "name": "stdout",
     "output_type": "stream",
     "text": [
      "creating LoG kernel\n",
      "[[ 1.12046117  0.63757111  0.06095148  0.63757111  1.12046117]\n",
      " [ 0.63757111 -2.4365444  -4.78239408 -2.4365444   0.63757111]\n",
      " [ 0.06095148 -4.78239408 -8.28586751 -4.78239408  0.06095148]\n",
      " [ 0.63757111 -2.4365444  -4.78239408 -2.4365444   0.63757111]\n",
      " [ 1.12046117  0.63757111  0.06095148  0.63757111  1.12046117]]\n"
     ]
    }
   ],
   "source": [
    "print(100*logkernel(1.4,5))"
   ]
  },
  {
   "cell_type": "code",
   "execution_count": null,
   "metadata": {},
   "outputs": [],
   "source": []
  }
 ],
 "metadata": {
  "kernelspec": {
   "display_name": "Python 3",
   "language": "python",
   "name": "python3"
  },
  "language_info": {
   "codemirror_mode": {
    "name": "ipython",
    "version": 3
   },
   "file_extension": ".py",
   "mimetype": "text/x-python",
   "name": "python",
   "nbconvert_exporter": "python",
   "pygments_lexer": "ipython3",
   "version": "3.6.3"
  }
 },
 "nbformat": 4,
 "nbformat_minor": 2
}
